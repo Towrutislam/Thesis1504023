{
  "nbformat": 4,
  "nbformat_minor": 0,
  "metadata": {
    "colab": {
      "name": "DNN.ipynb",
      "provenance": [],
      "collapsed_sections": []
    },
    "kernelspec": {
      "name": "python3",
      "display_name": "Python 3"
    }
  },
  "cells": [
    {
      "cell_type": "code",
      "metadata": {
        "id": "l-3dFOujWWIh",
        "colab": {
          "base_uri": "https://localhost:8080/",
          "height": 35
        },
        "outputId": "9f5ba13a-fb67-402d-806a-70275e53e5c7"
      },
      "source": [
        "%tensorflow_version 1.x"
      ],
      "execution_count": null,
      "outputs": [
        {
          "output_type": "stream",
          "text": [
            "TensorFlow 1.x selected.\n"
          ],
          "name": "stdout"
        }
      ]
    },
    {
      "cell_type": "code",
      "metadata": {
        "id": "XII3lzOoa7y7"
      },
      "source": [
        "import pickle\n",
        "import numpy as np\n",
        "import pandas as pd"
      ],
      "execution_count": null,
      "outputs": []
    },
    {
      "cell_type": "code",
      "metadata": {
        "id": "F5lmj-gHsqA5",
        "colab": {
          "resources": {
            "http://localhost:8080/nbextensions/google.colab/files.js": {
              "data": "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",
              "ok": true,
              "headers": [
                [
                  "content-type",
                  "application/javascript"
                ]
              ],
              "status": 200,
              "status_text": "OK"
            }
          },
          "base_uri": "https://localhost:8080/",
          "height": 73
        },
        "outputId": "5edc1c1e-4cf3-487e-81e5-e0f50300b6d4"
      },
      "source": [
        "import pandas as pd\n",
        "from google.colab import files\n",
        "uploaded = files.upload()"
      ],
      "execution_count": null,
      "outputs": [
        {
          "output_type": "display_data",
          "data": {
            "text/html": [
              "\n",
              "     <input type=\"file\" id=\"files-210dfaf8-d70c-4733-b615-59e853703a41\" name=\"files[]\" multiple disabled\n",
              "        style=\"border:none\" />\n",
              "     <output id=\"result-210dfaf8-d70c-4733-b615-59e853703a41\">\n",
              "      Upload widget is only available when the cell has been executed in the\n",
              "      current browser session. Please rerun this cell to enable.\n",
              "      </output>\n",
              "      <script src=\"/nbextensions/google.colab/files.js\"></script> "
            ],
            "text/plain": [
              "<IPython.core.display.HTML object>"
            ]
          },
          "metadata": {
            "tags": []
          }
        },
        {
          "output_type": "stream",
          "text": [
            "Saving data2.csv to data2.csv\n"
          ],
          "name": "stdout"
        }
      ]
    },
    {
      "cell_type": "code",
      "metadata": {
        "id": "XYAZQaZ2syPZ",
        "colab": {
          "base_uri": "https://localhost:8080/",
          "height": 206
        },
        "outputId": "ad5656a1-6b03-4726-a8dc-0197369ba6c4"
      },
      "source": [
        "import io\n",
        "data = pd.read_csv(io.BytesIO(uploaded['data2.csv']))\n",
        "data.head()"
      ],
      "execution_count": null,
      "outputs": [
        {
          "output_type": "execute_result",
          "data": {
            "text/html": [
              "<div>\n",
              "<style scoped>\n",
              "    .dataframe tbody tr th:only-of-type {\n",
              "        vertical-align: middle;\n",
              "    }\n",
              "\n",
              "    .dataframe tbody tr th {\n",
              "        vertical-align: top;\n",
              "    }\n",
              "\n",
              "    .dataframe thead th {\n",
              "        text-align: right;\n",
              "    }\n",
              "</style>\n",
              "<table border=\"1\" class=\"dataframe\">\n",
              "  <thead>\n",
              "    <tr style=\"text-align: right;\">\n",
              "      <th></th>\n",
              "      <th>Posts</th>\n",
              "      <th>Sentiments</th>\n",
              "    </tr>\n",
              "  </thead>\n",
              "  <tbody>\n",
              "    <tr>\n",
              "      <th>0</th>\n",
              "      <td>একদিন... এইরকম কোনো দিনে বিসিএস/বিজিএস উত্তীর্...</td>\n",
              "      <td>negative</td>\n",
              "    </tr>\n",
              "    <tr>\n",
              "      <th>1</th>\n",
              "      <td>ক্লাসমেটের পড়া না পারায় ফিক করে হেসে দেওয়া, মজ...</td>\n",
              "      <td>negative</td>\n",
              "    </tr>\n",
              "    <tr>\n",
              "      <th>2</th>\n",
              "      <td>দিনের পর দিন বিভিন্ন ইংলিশ টিভি সিরিজ দেখে সময়...</td>\n",
              "      <td>positive</td>\n",
              "    </tr>\n",
              "    <tr>\n",
              "      <th>3</th>\n",
              "      <td>স্যার,  অসাধারণ  প্রেজেন্টেশন। স্কুল লাইফে ফির...</td>\n",
              "      <td>positive</td>\n",
              "    </tr>\n",
              "    <tr>\n",
              "      <th>4</th>\n",
              "      <td>\\nআমি আমার ৮ ঘন্টার কর্মঘন্টার বাইরে সহজে কাউক...</td>\n",
              "      <td>neutral</td>\n",
              "    </tr>\n",
              "  </tbody>\n",
              "</table>\n",
              "</div>"
            ],
            "text/plain": [
              "                                               Posts Sentiments\n",
              "0  একদিন... এইরকম কোনো দিনে বিসিএস/বিজিএস উত্তীর্...   negative\n",
              "1  ক্লাসমেটের পড়া না পারায় ফিক করে হেসে দেওয়া, মজ...  negative \n",
              "2  দিনের পর দিন বিভিন্ন ইংলিশ টিভি সিরিজ দেখে সময়...   positive\n",
              "3  স্যার,  অসাধারণ  প্রেজেন্টেশন। স্কুল লাইফে ফির...   positive\n",
              "4  \\nআমি আমার ৮ ঘন্টার কর্মঘন্টার বাইরে সহজে কাউক...   neutral "
            ]
          },
          "metadata": {
            "tags": []
          },
          "execution_count": 26
        }
      ]
    },
    {
      "cell_type": "code",
      "metadata": {
        "id": "svtws1v3iBnN",
        "colab": {
          "base_uri": "https://localhost:8080/",
          "height": 206
        },
        "outputId": "6122049c-dcfb-4a3f-954a-b4a832e54aa9"
      },
      "source": [
        "data.head()"
      ],
      "execution_count": null,
      "outputs": [
        {
          "output_type": "execute_result",
          "data": {
            "text/html": [
              "<div>\n",
              "<style scoped>\n",
              "    .dataframe tbody tr th:only-of-type {\n",
              "        vertical-align: middle;\n",
              "    }\n",
              "\n",
              "    .dataframe tbody tr th {\n",
              "        vertical-align: top;\n",
              "    }\n",
              "\n",
              "    .dataframe thead th {\n",
              "        text-align: right;\n",
              "    }\n",
              "</style>\n",
              "<table border=\"1\" class=\"dataframe\">\n",
              "  <thead>\n",
              "    <tr style=\"text-align: right;\">\n",
              "      <th></th>\n",
              "      <th>Posts</th>\n",
              "      <th>Sentiments</th>\n",
              "    </tr>\n",
              "  </thead>\n",
              "  <tbody>\n",
              "    <tr>\n",
              "      <th>0</th>\n",
              "      <td>একদিন... এইরকম কোনো দিনে বিসিএস/বিজিএস উত্তীর্...</td>\n",
              "      <td>negative</td>\n",
              "    </tr>\n",
              "    <tr>\n",
              "      <th>1</th>\n",
              "      <td>ক্লাসমেটের পড়া না পারায় ফিক করে হেসে দেওয়া, মজ...</td>\n",
              "      <td>negative</td>\n",
              "    </tr>\n",
              "    <tr>\n",
              "      <th>2</th>\n",
              "      <td>দিনের পর দিন বিভিন্ন ইংলিশ টিভি সিরিজ দেখে সময়...</td>\n",
              "      <td>positive</td>\n",
              "    </tr>\n",
              "    <tr>\n",
              "      <th>3</th>\n",
              "      <td>স্যার,  অসাধারণ  প্রেজেন্টেশন। স্কুল লাইফে ফির...</td>\n",
              "      <td>positive</td>\n",
              "    </tr>\n",
              "    <tr>\n",
              "      <th>4</th>\n",
              "      <td>\\nআমি আমার ৮ ঘন্টার কর্মঘন্টার বাইরে সহজে কাউক...</td>\n",
              "      <td>neutral</td>\n",
              "    </tr>\n",
              "  </tbody>\n",
              "</table>\n",
              "</div>"
            ],
            "text/plain": [
              "                                               Posts Sentiments\n",
              "0  একদিন... এইরকম কোনো দিনে বিসিএস/বিজিএস উত্তীর্...   negative\n",
              "1  ক্লাসমেটের পড়া না পারায় ফিক করে হেসে দেওয়া, মজ...  negative \n",
              "2  দিনের পর দিন বিভিন্ন ইংলিশ টিভি সিরিজ দেখে সময়...   positive\n",
              "3  স্যার,  অসাধারণ  প্রেজেন্টেশন। স্কুল লাইফে ফির...   positive\n",
              "4  \\nআমি আমার ৮ ঘন্টার কর্মঘন্টার বাইরে সহজে কাউক...   neutral "
            ]
          },
          "metadata": {
            "tags": []
          },
          "execution_count": 27
        }
      ]
    },
    {
      "cell_type": "code",
      "metadata": {
        "id": "MleZj_Nir18q",
        "colab": {
          "base_uri": "https://localhost:8080/",
          "height": 128
        },
        "outputId": "0d85df40-ece4-4e3a-f944-feb83e2837c1"
      },
      "source": [
        "from google.colab import drive\n",
        "drive.mount('/content/drive')"
      ],
      "execution_count": null,
      "outputs": [
        {
          "output_type": "stream",
          "text": [
            "Go to this URL in a browser: https://accounts.google.com/o/oauth2/auth?client_id=947318989803-6bn6qk8qdgf4n4g3pfee6491hc0brc4i.apps.googleusercontent.com&redirect_uri=urn%3aietf%3awg%3aoauth%3a2.0%3aoob&scope=email%20https%3a%2f%2fwww.googleapis.com%2fauth%2fdocs.test%20https%3a%2f%2fwww.googleapis.com%2fauth%2fdrive%20https%3a%2f%2fwww.googleapis.com%2fauth%2fdrive.photos.readonly%20https%3a%2f%2fwww.googleapis.com%2fauth%2fpeopleapi.readonly&response_type=code\n",
            "\n",
            "Enter your authorization code:\n",
            "··········\n",
            "Mounted at /content/drive\n"
          ],
          "name": "stdout"
        }
      ]
    },
    {
      "cell_type": "code",
      "metadata": {
        "id": "vQB1zABqIwu8",
        "colab": {
          "base_uri": "https://localhost:8080/",
          "height": 181
        },
        "outputId": "dc7f583d-1c35-4e41-b92b-3bb61b681023"
      },
      "source": [
        "data.info()"
      ],
      "execution_count": null,
      "outputs": [
        {
          "output_type": "stream",
          "text": [
            "<class 'pandas.core.frame.DataFrame'>\n",
            "RangeIndex: 8683 entries, 0 to 8682\n",
            "Data columns (total 2 columns):\n",
            " #   Column      Non-Null Count  Dtype \n",
            "---  ------      --------------  ----- \n",
            " 0   Posts       8678 non-null   object\n",
            " 1   Sentiments  8672 non-null   object\n",
            "dtypes: object(2)\n",
            "memory usage: 135.8+ KB\n"
          ],
          "name": "stdout"
        }
      ]
    },
    {
      "cell_type": "code",
      "metadata": {
        "id": "Wyiuum8WtO5D",
        "colab": {
          "base_uri": "https://localhost:8080/",
          "height": 206
        },
        "outputId": "0913a8d5-2152-4daa-f491-63a98d94b888"
      },
      "source": [
        "data['Sentiments'].replace({'negative':0,'positive ':1,'neutral ':1,'positive':1,'negative ':0,'neutral':1,'postive':1,'meg':0,'ne':0,\n",
        "                          'neu':0,'nef':0, 'neh':0}, inplace=True)\n",
        "data.head()"
      ],
      "execution_count": null,
      "outputs": [
        {
          "output_type": "execute_result",
          "data": {
            "text/html": [
              "<div>\n",
              "<style scoped>\n",
              "    .dataframe tbody tr th:only-of-type {\n",
              "        vertical-align: middle;\n",
              "    }\n",
              "\n",
              "    .dataframe tbody tr th {\n",
              "        vertical-align: top;\n",
              "    }\n",
              "\n",
              "    .dataframe thead th {\n",
              "        text-align: right;\n",
              "    }\n",
              "</style>\n",
              "<table border=\"1\" class=\"dataframe\">\n",
              "  <thead>\n",
              "    <tr style=\"text-align: right;\">\n",
              "      <th></th>\n",
              "      <th>Posts</th>\n",
              "      <th>Sentiments</th>\n",
              "    </tr>\n",
              "  </thead>\n",
              "  <tbody>\n",
              "    <tr>\n",
              "      <th>0</th>\n",
              "      <td>একদিন... এইরকম কোনো দিনে বিসিএস/বিজিএস উত্তীর্...</td>\n",
              "      <td>0.0</td>\n",
              "    </tr>\n",
              "    <tr>\n",
              "      <th>1</th>\n",
              "      <td>ক্লাসমেটের পড়া না পারায় ফিক করে হেসে দেওয়া, মজ...</td>\n",
              "      <td>0.0</td>\n",
              "    </tr>\n",
              "    <tr>\n",
              "      <th>2</th>\n",
              "      <td>দিনের পর দিন বিভিন্ন ইংলিশ টিভি সিরিজ দেখে সময়...</td>\n",
              "      <td>1.0</td>\n",
              "    </tr>\n",
              "    <tr>\n",
              "      <th>3</th>\n",
              "      <td>স্যার,  অসাধারণ  প্রেজেন্টেশন। স্কুল লাইফে ফির...</td>\n",
              "      <td>1.0</td>\n",
              "    </tr>\n",
              "    <tr>\n",
              "      <th>4</th>\n",
              "      <td>\\nআমি আমার ৮ ঘন্টার কর্মঘন্টার বাইরে সহজে কাউক...</td>\n",
              "      <td>1.0</td>\n",
              "    </tr>\n",
              "  </tbody>\n",
              "</table>\n",
              "</div>"
            ],
            "text/plain": [
              "                                               Posts  Sentiments\n",
              "0  একদিন... এইরকম কোনো দিনে বিসিএস/বিজিএস উত্তীর্...         0.0\n",
              "1  ক্লাসমেটের পড়া না পারায় ফিক করে হেসে দেওয়া, মজ...         0.0\n",
              "2  দিনের পর দিন বিভিন্ন ইংলিশ টিভি সিরিজ দেখে সময়...         1.0\n",
              "3  স্যার,  অসাধারণ  প্রেজেন্টেশন। স্কুল লাইফে ফির...         1.0\n",
              "4  \\nআমি আমার ৮ ঘন্টার কর্মঘন্টার বাইরে সহজে কাউক...         1.0"
            ]
          },
          "metadata": {
            "tags": []
          },
          "execution_count": 29
        }
      ]
    },
    {
      "cell_type": "code",
      "metadata": {
        "id": "tHBaDTSrI6Hr",
        "colab": {
          "base_uri": "https://localhost:8080/",
          "height": 35
        },
        "outputId": "a9a4af92-9df3-4b35-db4e-aba058de7a1e"
      },
      "source": [
        "data.Sentiments.unique()"
      ],
      "execution_count": null,
      "outputs": [
        {
          "output_type": "execute_result",
          "data": {
            "text/plain": [
              "array([0., 1.])"
            ]
          },
          "metadata": {
            "tags": []
          },
          "execution_count": 31
        }
      ]
    },
    {
      "cell_type": "code",
      "metadata": {
        "id": "Q5VAERojtZoV"
      },
      "source": [
        "data=data.dropna()"
      ],
      "execution_count": null,
      "outputs": []
    },
    {
      "cell_type": "code",
      "metadata": {
        "id": "SgVmEPEcGJi0"
      },
      "source": [
        "data.quality = data.quality.apply(lambda x: x.strip())"
      ],
      "execution_count": null,
      "outputs": []
    },
    {
      "cell_type": "code",
      "metadata": {
        "id": "ls9YSAnlvXEA",
        "colab": {
          "base_uri": "https://localhost:8080/",
          "height": 72
        },
        "outputId": "41122a78-6451-40eb-bc5a-0aefa6bce3b5"
      },
      "source": [
        "data.Sentiments.value_counts()"
      ],
      "execution_count": null,
      "outputs": [
        {
          "output_type": "execute_result",
          "data": {
            "text/plain": [
              "1.0    4690\n",
              "0.0    3980\n",
              "Name: Sentiments, dtype: int64"
            ]
          },
          "metadata": {
            "tags": []
          },
          "execution_count": 32
        }
      ]
    },
    {
      "cell_type": "markdown",
      "metadata": {
        "id": "U_R_jo95TwFn"
      },
      "source": [
        "## Preprocessing"
      ]
    },
    {
      "cell_type": "code",
      "metadata": {
        "id": "4ky-ifn17F7o",
        "colab": {
          "base_uri": "https://localhost:8080/",
          "height": 53
        },
        "outputId": "1d4e95ab-9abe-4c9d-b3ea-7347a57e97e6"
      },
      "source": [
        "%%time\n",
        "import re\n",
        "data['texts_prep'] = data.Posts.apply(lambda x: [i for i in re.sub(r'[^\\u0980-\\u09E3 A-Za-z]+', ' ', str(x)).split() if len(i) > 1])"
      ],
      "execution_count": null,
      "outputs": [
        {
          "output_type": "stream",
          "text": [
            "CPU times: user 78.8 ms, sys: 9.06 ms, total: 87.9 ms\n",
            "Wall time: 88.1 ms\n"
          ],
          "name": "stdout"
        }
      ]
    },
    {
      "cell_type": "code",
      "metadata": {
        "id": "EtmTe85nqTrF"
      },
      "source": [
        "data = data[data.texts_prep.apply(lambda x: len(x)) > 0]"
      ],
      "execution_count": null,
      "outputs": []
    },
    {
      "cell_type": "code",
      "metadata": {
        "id": "nI4dQPhmabxP"
      },
      "source": [
        "data['target'] = data.quality.map({'bad':0, 'good':1})"
      ],
      "execution_count": null,
      "outputs": []
    },
    {
      "cell_type": "code",
      "metadata": {
        "id": "GYmNqskruWMj"
      },
      "source": [
        "# !pip install bnlp_toolkit"
      ],
      "execution_count": null,
      "outputs": []
    },
    {
      "cell_type": "code",
      "metadata": {
        "id": "HWloXrEbNUVL",
        "colab": {
          "base_uri": "https://localhost:8080/",
          "height": 206
        },
        "outputId": "78213552-18d7-4cdf-8094-81e915c723a5"
      },
      "source": [
        "data.head()"
      ],
      "execution_count": null,
      "outputs": [
        {
          "output_type": "execute_result",
          "data": {
            "text/html": [
              "<div>\n",
              "<style scoped>\n",
              "    .dataframe tbody tr th:only-of-type {\n",
              "        vertical-align: middle;\n",
              "    }\n",
              "\n",
              "    .dataframe tbody tr th {\n",
              "        vertical-align: top;\n",
              "    }\n",
              "\n",
              "    .dataframe thead th {\n",
              "        text-align: right;\n",
              "    }\n",
              "</style>\n",
              "<table border=\"1\" class=\"dataframe\">\n",
              "  <thead>\n",
              "    <tr style=\"text-align: right;\">\n",
              "      <th></th>\n",
              "      <th>Posts</th>\n",
              "      <th>Sentiments</th>\n",
              "      <th>texts_prep</th>\n",
              "    </tr>\n",
              "  </thead>\n",
              "  <tbody>\n",
              "    <tr>\n",
              "      <th>0</th>\n",
              "      <td>একদিন... এইরকম কোনো দিনে বিসিএস/বিজিএস উত্তীর্...</td>\n",
              "      <td>0.0</td>\n",
              "      <td>[একদিন, এইরকম, কোনো, দিনে, বিসিএস, বিজিএস, উত্...</td>\n",
              "    </tr>\n",
              "    <tr>\n",
              "      <th>1</th>\n",
              "      <td>ক্লাসমেটের পড়া না পারায় ফিক করে হেসে দেওয়া, মজ...</td>\n",
              "      <td>0.0</td>\n",
              "      <td>[ক্লাসমেটের, পড়া, না, পারায়, ফিক, করে, হেসে, দ...</td>\n",
              "    </tr>\n",
              "    <tr>\n",
              "      <th>2</th>\n",
              "      <td>দিনের পর দিন বিভিন্ন ইংলিশ টিভি সিরিজ দেখে সময়...</td>\n",
              "      <td>1.0</td>\n",
              "      <td>[দিনের, পর, দিন, বিভিন্ন, ইংলিশ, টিভি, সিরিজ, ...</td>\n",
              "    </tr>\n",
              "    <tr>\n",
              "      <th>3</th>\n",
              "      <td>স্যার,  অসাধারণ  প্রেজেন্টেশন। স্কুল লাইফে ফির...</td>\n",
              "      <td>1.0</td>\n",
              "      <td>[স্যার, অসাধারণ, প্রেজেন্টেশন, স্কুল, লাইফে, ফ...</td>\n",
              "    </tr>\n",
              "    <tr>\n",
              "      <th>4</th>\n",
              "      <td>\\nআমি আমার ৮ ঘন্টার কর্মঘন্টার বাইরে সহজে কাউক...</td>\n",
              "      <td>1.0</td>\n",
              "      <td>[আমি, আমার, ঘন্টার, কর্মঘন্টার, বাইরে, সহজে, ক...</td>\n",
              "    </tr>\n",
              "  </tbody>\n",
              "</table>\n",
              "</div>"
            ],
            "text/plain": [
              "                                               Posts  ...                                         texts_prep\n",
              "0  একদিন... এইরকম কোনো দিনে বিসিএস/বিজিএস উত্তীর্...  ...  [একদিন, এইরকম, কোনো, দিনে, বিসিএস, বিজিএস, উত্...\n",
              "1  ক্লাসমেটের পড়া না পারায় ফিক করে হেসে দেওয়া, মজ...  ...  [ক্লাসমেটের, পড়া, না, পারায়, ফিক, করে, হেসে, দ...\n",
              "2  দিনের পর দিন বিভিন্ন ইংলিশ টিভি সিরিজ দেখে সময়...  ...  [দিনের, পর, দিন, বিভিন্ন, ইংলিশ, টিভি, সিরিজ, ...\n",
              "3  স্যার,  অসাধারণ  প্রেজেন্টেশন। স্কুল লাইফে ফির...  ...  [স্যার, অসাধারণ, প্রেজেন্টেশন, স্কুল, লাইফে, ফ...\n",
              "4  \\nআমি আমার ৮ ঘন্টার কর্মঘন্টার বাইরে সহজে কাউক...  ...  [আমি, আমার, ঘন্টার, কর্মঘন্টার, বাইরে, সহজে, ক...\n",
              "\n",
              "[5 rows x 3 columns]"
            ]
          },
          "metadata": {
            "tags": []
          },
          "execution_count": 37
        }
      ]
    },
    {
      "cell_type": "markdown",
      "metadata": {
        "id": "FXhzCaQFbjbN"
      },
      "source": [
        "## Data Partitioning"
      ]
    },
    {
      "cell_type": "code",
      "metadata": {
        "id": "ENiXTGT3IO9G"
      },
      "source": [
        "X = data['texts_prep']\n",
        "y = data['Sentiments']"
      ],
      "execution_count": null,
      "outputs": []
    },
    {
      "cell_type": "code",
      "metadata": {
        "id": "vQcSbZ6Dba_9",
        "colab": {
          "base_uri": "https://localhost:8080/",
          "height": 72
        },
        "outputId": "1a502b68-10de-4e8c-9d86-9dec13551023"
      },
      "source": [
        "from sklearn.model_selection import train_test_split\n",
        "X_train, X_val, y_train, y_val = train_test_split(X, y, test_size=0.2, random_state=0, stratify=y)\n",
        "X_val, X_test, y_val, y_test = train_test_split(X_val, y_val, test_size=0.3, random_state=0, stratify=y_val)\n",
        "\n",
        "print(\"\"\"Training shape: {}\n",
        "Validation shape: {}\n",
        "Testing shape: {}\"\"\".format(X_train.shape, X_val.shape, X_test.shape))"
      ],
      "execution_count": null,
      "outputs": [
        {
          "output_type": "stream",
          "text": [
            "Training shape: (6934,)\n",
            "Validation shape: (1213,)\n",
            "Testing shape: (521,)\n"
          ],
          "name": "stdout"
        }
      ]
    },
    {
      "cell_type": "markdown",
      "metadata": {
        "id": "bijnqAUlemhQ"
      },
      "source": [
        "## Load fastText pre-trained model"
      ]
    },
    {
      "cell_type": "code",
      "metadata": {
        "id": "Vfyem8n2wPNE",
        "colab": {
          "base_uri": "https://localhost:8080/",
          "height": 53
        },
        "outputId": "af6079f8-ec76-401f-b407-20b091ad4e72"
      },
      "source": [
        "!unzip \"/content/drive/My Drive/EC/Copy of cc.bn.300.zip\" -d /content"
      ],
      "execution_count": null,
      "outputs": [
        {
          "output_type": "stream",
          "text": [
            "Archive:  /content/drive/My Drive/EC/Copy of cc.bn.300.zip\n",
            "  inflating: /content/cc.bn.300.vec  \n"
          ],
          "name": "stdout"
        }
      ]
    },
    {
      "cell_type": "code",
      "metadata": {
        "id": "iPvxxfL9ztrT",
        "colab": {
          "base_uri": "https://localhost:8080/",
          "height": 73
        },
        "outputId": "03b3a103-ff4c-49a1-d0bc-33c9abd8a8f0"
      },
      "source": [
        "from gensim.models import KeyedVectors\n",
        "\n",
        "path = '/content/cc.bn.300.vec'\n",
        "fastText_model = KeyedVectors.load_word2vec_format(path, binary=False)"
      ],
      "execution_count": null,
      "outputs": [
        {
          "output_type": "stream",
          "text": [
            "/usr/local/lib/python3.6/dist-packages/smart_open/smart_open_lib.py:254: UserWarning: This function is deprecated, use smart_open.open instead. See the migration notes for details: https://github.com/RaRe-Technologies/smart_open/blob/master/README.rst#migrating-to-the-new-open-function\n",
            "  'See the migration notes for details: %s' % _MIGRATION_NOTES_URL\n"
          ],
          "name": "stderr"
        }
      ]
    },
    {
      "cell_type": "markdown",
      "metadata": {
        "id": "uLO6oFQogA22"
      },
      "source": [
        "## Feature Extraction"
      ]
    },
    {
      "cell_type": "code",
      "metadata": {
        "id": "K_gocRwc9scY"
      },
      "source": [
        "def embedding_vectorizer(fastText_model, docs):\n",
        "    mean_vecs = []\n",
        "    for instance in docs:\n",
        "        vecs = []\n",
        "        for word in instance:\n",
        "            if word in fastText_model.vocab:\n",
        "                vecs.append(fastText_model[word])\n",
        "            else:\n",
        "                vecs.append(np.zeros(fastText_model.vector_size))\n",
        "                \n",
        "        mean_vecs.append(np.mean(vecs, axis=0))\n",
        "        \n",
        "    return mean_vecs"
      ],
      "execution_count": null,
      "outputs": []
    },
    {
      "cell_type": "code",
      "metadata": {
        "id": "LTzDOH9fgD76"
      },
      "source": [
        "x_train_vectorized = embedding_vectorizer(fastText_model, X_train)\n",
        "x_train_vectorized = pd.DataFrame(x_train_vectorized).add_prefix('col_')"
      ],
      "execution_count": null,
      "outputs": []
    },
    {
      "cell_type": "code",
      "metadata": {
        "id": "Uty7G-DHuWYe"
      },
      "source": [
        "x_val_vectorized = embedding_vectorizer(fastText_model, X_val)\n",
        "x_val_vectorized = pd.DataFrame(x_val_vectorized).add_prefix('col_')"
      ],
      "execution_count": null,
      "outputs": []
    },
    {
      "cell_type": "code",
      "metadata": {
        "id": "p_b8C3u1QfNb"
      },
      "source": [
        "x_test_vectorized = embedding_vectorizer(fastText_model, X_test)\n",
        "x_test_vectorized = pd.DataFrame(x_test_vectorized).add_prefix('col_')"
      ],
      "execution_count": null,
      "outputs": []
    },
    {
      "cell_type": "markdown",
      "metadata": {
        "id": "E2faDTek8bLZ"
      },
      "source": [
        "## Model"
      ]
    },
    {
      "cell_type": "code",
      "metadata": {
        "id": "Rc1nXrbvt2VV",
        "colab": {
          "base_uri": "https://localhost:8080/",
          "height": 35
        },
        "outputId": "d324962e-bba7-423e-d6c5-6379df8dab16"
      },
      "source": [
        "import tensorflow as tf\n",
        "import random as rn\n",
        "\n",
        "from keras.models import Sequential\n",
        "from keras.layers import Dense, Dropout\n",
        "from keras.callbacks import History\n",
        "from keras.optimizers import Adam, SGD"
      ],
      "execution_count": null,
      "outputs": [
        {
          "output_type": "stream",
          "text": [
            "Using TensorFlow backend.\n"
          ],
          "name": "stderr"
        }
      ]
    },
    {
      "cell_type": "code",
      "metadata": {
        "id": "Wg3yD1SguBjx",
        "colab": {
          "base_uri": "https://localhost:8080/",
          "height": 1000
        },
        "outputId": "a802b7bb-f330-4e19-eef8-e9d95d0974a5"
      },
      "source": [
        "np.random.seed(2)\n",
        "rn.seed(3)\n",
        "\n",
        "history = History()\n",
        "\n",
        "model = Sequential()\n",
        "model.add(Dense(1024, input_dim=300, activation=\"tanh\"))\n",
        "model.add(Dropout(0.1))\n",
        "model.add(Dense(512, activation=\"tanh\"))\n",
        "model.add(Dropout(0.1))\n",
        "model.add(Dense(512, activation=\"tanh\"))\n",
        "model.add(Dropout(0.1))\n",
        "model.add(Dense(256, activation=\"tanh\"))\n",
        "model.add(Dropout(0.1))\n",
        "model.add(Dense(1, activation=\"sigmoid\"))\n",
        "\n",
        "model.compile(optimizer=SGD(0.001), loss=\"binary_crossentropy\", metrics=['accuracy'])\n",
        "\n",
        "model.fit(np.array(x_train_vectorized), np.array(y_train), \n",
        "          validation_data=(np.array(x_val_vectorized), np.array(y_val)), \n",
        "          epochs=300, \n",
        "          batch_size=3000, \n",
        "          shuffle=True, \n",
        "          callbacks=[history], \n",
        "          verbose=True)"
      ],
      "execution_count": null,
      "outputs": [
        {
          "output_type": "stream",
          "text": [
            "Train on 6934 samples, validate on 1213 samples\n",
            "Epoch 1/300\n",
            "6934/6934 [==============================] - 1s 208us/step - loss: 0.6924 - accuracy: 0.5205 - val_loss: 0.6915 - val_accuracy: 0.5260\n",
            "Epoch 2/300\n",
            "6934/6934 [==============================] - 1s 163us/step - loss: 0.6924 - accuracy: 0.5063 - val_loss: 0.6914 - val_accuracy: 0.5284\n",
            "Epoch 3/300\n",
            "6934/6934 [==============================] - 1s 167us/step - loss: 0.6923 - accuracy: 0.5215 - val_loss: 0.6913 - val_accuracy: 0.5243\n",
            "Epoch 4/300\n",
            "6934/6934 [==============================] - 1s 165us/step - loss: 0.6922 - accuracy: 0.5120 - val_loss: 0.6912 - val_accuracy: 0.5202\n",
            "Epoch 5/300\n",
            "6934/6934 [==============================] - 1s 164us/step - loss: 0.6923 - accuracy: 0.5108 - val_loss: 0.6910 - val_accuracy: 0.5260\n",
            "Epoch 6/300\n",
            "6934/6934 [==============================] - 1s 164us/step - loss: 0.6919 - accuracy: 0.5213 - val_loss: 0.6909 - val_accuracy: 0.5227\n",
            "Epoch 7/300\n",
            "6934/6934 [==============================] - 1s 164us/step - loss: 0.6916 - accuracy: 0.5225 - val_loss: 0.6908 - val_accuracy: 0.5284\n",
            "Epoch 8/300\n",
            "6934/6934 [==============================] - 1s 164us/step - loss: 0.6916 - accuracy: 0.5267 - val_loss: 0.6907 - val_accuracy: 0.5260\n",
            "Epoch 9/300\n",
            "6934/6934 [==============================] - 1s 164us/step - loss: 0.6920 - accuracy: 0.5131 - val_loss: 0.6906 - val_accuracy: 0.5326\n",
            "Epoch 10/300\n",
            "6934/6934 [==============================] - 1s 165us/step - loss: 0.6917 - accuracy: 0.5175 - val_loss: 0.6905 - val_accuracy: 0.5334\n",
            "Epoch 11/300\n",
            "6934/6934 [==============================] - 1s 163us/step - loss: 0.6918 - accuracy: 0.5173 - val_loss: 0.6904 - val_accuracy: 0.5367\n",
            "Epoch 12/300\n",
            "6934/6934 [==============================] - 1s 164us/step - loss: 0.6915 - accuracy: 0.5195 - val_loss: 0.6903 - val_accuracy: 0.5334\n",
            "Epoch 13/300\n",
            "6934/6934 [==============================] - 1s 164us/step - loss: 0.6913 - accuracy: 0.5185 - val_loss: 0.6901 - val_accuracy: 0.5367\n",
            "Epoch 14/300\n",
            "6934/6934 [==============================] - 1s 166us/step - loss: 0.6913 - accuracy: 0.5215 - val_loss: 0.6900 - val_accuracy: 0.5342\n",
            "Epoch 15/300\n",
            "6934/6934 [==============================] - 1s 166us/step - loss: 0.6906 - accuracy: 0.5319 - val_loss: 0.6899 - val_accuracy: 0.5342\n",
            "Epoch 16/300\n",
            "6934/6934 [==============================] - 1s 163us/step - loss: 0.6907 - accuracy: 0.5225 - val_loss: 0.6898 - val_accuracy: 0.5342\n",
            "Epoch 17/300\n",
            "6934/6934 [==============================] - 1s 163us/step - loss: 0.6909 - accuracy: 0.5232 - val_loss: 0.6897 - val_accuracy: 0.5350\n",
            "Epoch 18/300\n",
            "6934/6934 [==============================] - 1s 165us/step - loss: 0.6903 - accuracy: 0.5294 - val_loss: 0.6896 - val_accuracy: 0.5367\n",
            "Epoch 19/300\n",
            "6934/6934 [==============================] - 1s 166us/step - loss: 0.6904 - accuracy: 0.5239 - val_loss: 0.6895 - val_accuracy: 0.5375\n",
            "Epoch 20/300\n",
            "6934/6934 [==============================] - 1s 165us/step - loss: 0.6905 - accuracy: 0.5252 - val_loss: 0.6894 - val_accuracy: 0.5359\n",
            "Epoch 21/300\n",
            "6934/6934 [==============================] - 1s 163us/step - loss: 0.6907 - accuracy: 0.5190 - val_loss: 0.6893 - val_accuracy: 0.5350\n",
            "Epoch 22/300\n",
            "6934/6934 [==============================] - 1s 165us/step - loss: 0.6904 - accuracy: 0.5304 - val_loss: 0.6892 - val_accuracy: 0.5400\n",
            "Epoch 23/300\n",
            "6934/6934 [==============================] - 1s 165us/step - loss: 0.6902 - accuracy: 0.5313 - val_loss: 0.6892 - val_accuracy: 0.5400\n",
            "Epoch 24/300\n",
            "6934/6934 [==============================] - 1s 166us/step - loss: 0.6901 - accuracy: 0.5319 - val_loss: 0.6891 - val_accuracy: 0.5433\n",
            "Epoch 25/300\n",
            "6934/6934 [==============================] - 1s 163us/step - loss: 0.6900 - accuracy: 0.5345 - val_loss: 0.6890 - val_accuracy: 0.5416\n",
            "Epoch 26/300\n",
            "6934/6934 [==============================] - 1s 163us/step - loss: 0.6896 - accuracy: 0.5384 - val_loss: 0.6889 - val_accuracy: 0.5392\n",
            "Epoch 27/300\n",
            "6934/6934 [==============================] - 1s 164us/step - loss: 0.6900 - accuracy: 0.5326 - val_loss: 0.6888 - val_accuracy: 0.5408\n",
            "Epoch 28/300\n",
            "6934/6934 [==============================] - 1s 162us/step - loss: 0.6902 - accuracy: 0.5320 - val_loss: 0.6887 - val_accuracy: 0.5375\n",
            "Epoch 29/300\n",
            "6934/6934 [==============================] - 1s 164us/step - loss: 0.6895 - accuracy: 0.5375 - val_loss: 0.6886 - val_accuracy: 0.5392\n",
            "Epoch 30/300\n",
            "6934/6934 [==============================] - 1s 163us/step - loss: 0.6899 - accuracy: 0.5355 - val_loss: 0.6885 - val_accuracy: 0.5392\n",
            "Epoch 31/300\n",
            "6934/6934 [==============================] - 1s 167us/step - loss: 0.6892 - accuracy: 0.5388 - val_loss: 0.6884 - val_accuracy: 0.5400\n",
            "Epoch 32/300\n",
            "6934/6934 [==============================] - 1s 164us/step - loss: 0.6889 - accuracy: 0.5320 - val_loss: 0.6884 - val_accuracy: 0.5400\n",
            "Epoch 33/300\n",
            "6934/6934 [==============================] - 1s 167us/step - loss: 0.6893 - accuracy: 0.5394 - val_loss: 0.6883 - val_accuracy: 0.5400\n",
            "Epoch 34/300\n",
            "6934/6934 [==============================] - 1s 166us/step - loss: 0.6894 - accuracy: 0.5330 - val_loss: 0.6882 - val_accuracy: 0.5400\n",
            "Epoch 35/300\n",
            "6934/6934 [==============================] - 1s 162us/step - loss: 0.6894 - accuracy: 0.5326 - val_loss: 0.6881 - val_accuracy: 0.5392\n",
            "Epoch 36/300\n",
            "6934/6934 [==============================] - 1s 163us/step - loss: 0.6889 - accuracy: 0.5361 - val_loss: 0.6880 - val_accuracy: 0.5392\n",
            "Epoch 37/300\n",
            "6934/6934 [==============================] - 1s 165us/step - loss: 0.6890 - accuracy: 0.5365 - val_loss: 0.6880 - val_accuracy: 0.5400\n",
            "Epoch 38/300\n",
            "6934/6934 [==============================] - 1s 165us/step - loss: 0.6895 - accuracy: 0.5284 - val_loss: 0.6879 - val_accuracy: 0.5400\n",
            "Epoch 39/300\n",
            "6934/6934 [==============================] - 1s 165us/step - loss: 0.6887 - accuracy: 0.5365 - val_loss: 0.6878 - val_accuracy: 0.5392\n",
            "Epoch 40/300\n",
            "6934/6934 [==============================] - 1s 164us/step - loss: 0.6889 - accuracy: 0.5346 - val_loss: 0.6877 - val_accuracy: 0.5408\n",
            "Epoch 41/300\n",
            "6934/6934 [==============================] - 1s 164us/step - loss: 0.6884 - accuracy: 0.5382 - val_loss: 0.6876 - val_accuracy: 0.5433\n",
            "Epoch 42/300\n",
            "6934/6934 [==============================] - 1s 165us/step - loss: 0.6888 - accuracy: 0.5336 - val_loss: 0.6876 - val_accuracy: 0.5441\n",
            "Epoch 43/300\n",
            "6934/6934 [==============================] - 1s 164us/step - loss: 0.6887 - accuracy: 0.5361 - val_loss: 0.6875 - val_accuracy: 0.5400\n",
            "Epoch 44/300\n",
            "6934/6934 [==============================] - 1s 170us/step - loss: 0.6884 - accuracy: 0.5355 - val_loss: 0.6874 - val_accuracy: 0.5400\n",
            "Epoch 45/300\n",
            "6934/6934 [==============================] - 1s 166us/step - loss: 0.6887 - accuracy: 0.5379 - val_loss: 0.6873 - val_accuracy: 0.5400\n",
            "Epoch 46/300\n",
            "6934/6934 [==============================] - 1s 170us/step - loss: 0.6887 - accuracy: 0.5353 - val_loss: 0.6873 - val_accuracy: 0.5408\n",
            "Epoch 47/300\n",
            "6934/6934 [==============================] - 1s 165us/step - loss: 0.6882 - accuracy: 0.5389 - val_loss: 0.6872 - val_accuracy: 0.5408\n",
            "Epoch 48/300\n",
            "6934/6934 [==============================] - 1s 164us/step - loss: 0.6883 - accuracy: 0.5378 - val_loss: 0.6871 - val_accuracy: 0.5408\n",
            "Epoch 49/300\n",
            "6934/6934 [==============================] - 1s 162us/step - loss: 0.6883 - accuracy: 0.5361 - val_loss: 0.6870 - val_accuracy: 0.5408\n",
            "Epoch 50/300\n",
            "6934/6934 [==============================] - 1s 164us/step - loss: 0.6878 - accuracy: 0.5391 - val_loss: 0.6870 - val_accuracy: 0.5408\n",
            "Epoch 51/300\n",
            "6934/6934 [==============================] - 1s 165us/step - loss: 0.6879 - accuracy: 0.5348 - val_loss: 0.6869 - val_accuracy: 0.5408\n",
            "Epoch 52/300\n",
            "6934/6934 [==============================] - 1s 164us/step - loss: 0.6884 - accuracy: 0.5415 - val_loss: 0.6868 - val_accuracy: 0.5425\n",
            "Epoch 53/300\n",
            "6934/6934 [==============================] - 1s 168us/step - loss: 0.6879 - accuracy: 0.5369 - val_loss: 0.6868 - val_accuracy: 0.5425\n",
            "Epoch 54/300\n",
            "6934/6934 [==============================] - 1s 163us/step - loss: 0.6874 - accuracy: 0.5385 - val_loss: 0.6867 - val_accuracy: 0.5425\n",
            "Epoch 55/300\n",
            "6934/6934 [==============================] - 1s 168us/step - loss: 0.6876 - accuracy: 0.5401 - val_loss: 0.6866 - val_accuracy: 0.5408\n",
            "Epoch 56/300\n",
            "6934/6934 [==============================] - 1s 166us/step - loss: 0.6878 - accuracy: 0.5425 - val_loss: 0.6866 - val_accuracy: 0.5400\n",
            "Epoch 57/300\n",
            "6934/6934 [==============================] - 1s 164us/step - loss: 0.6874 - accuracy: 0.5402 - val_loss: 0.6865 - val_accuracy: 0.5400\n",
            "Epoch 58/300\n",
            "6934/6934 [==============================] - 1s 166us/step - loss: 0.6874 - accuracy: 0.5392 - val_loss: 0.6864 - val_accuracy: 0.5400\n",
            "Epoch 59/300\n",
            "6934/6934 [==============================] - 1s 165us/step - loss: 0.6873 - accuracy: 0.5388 - val_loss: 0.6864 - val_accuracy: 0.5408\n",
            "Epoch 60/300\n",
            "6934/6934 [==============================] - 1s 165us/step - loss: 0.6869 - accuracy: 0.5441 - val_loss: 0.6863 - val_accuracy: 0.5408\n",
            "Epoch 61/300\n",
            "6934/6934 [==============================] - 1s 165us/step - loss: 0.6872 - accuracy: 0.5420 - val_loss: 0.6863 - val_accuracy: 0.5416\n",
            "Epoch 62/300\n",
            "6934/6934 [==============================] - 1s 164us/step - loss: 0.6867 - accuracy: 0.5431 - val_loss: 0.6862 - val_accuracy: 0.5408\n",
            "Epoch 63/300\n",
            "6934/6934 [==============================] - 1s 170us/step - loss: 0.6873 - accuracy: 0.5420 - val_loss: 0.6861 - val_accuracy: 0.5425\n",
            "Epoch 64/300\n",
            "6934/6934 [==============================] - 1s 170us/step - loss: 0.6871 - accuracy: 0.5378 - val_loss: 0.6861 - val_accuracy: 0.5425\n",
            "Epoch 65/300\n",
            "6934/6934 [==============================] - 1s 165us/step - loss: 0.6869 - accuracy: 0.5388 - val_loss: 0.6860 - val_accuracy: 0.5425\n",
            "Epoch 66/300\n",
            "6934/6934 [==============================] - 1s 162us/step - loss: 0.6869 - accuracy: 0.5391 - val_loss: 0.6859 - val_accuracy: 0.5408\n",
            "Epoch 67/300\n",
            "6934/6934 [==============================] - 1s 165us/step - loss: 0.6867 - accuracy: 0.5374 - val_loss: 0.6859 - val_accuracy: 0.5408\n",
            "Epoch 68/300\n",
            "6934/6934 [==============================] - 1s 169us/step - loss: 0.6864 - accuracy: 0.5407 - val_loss: 0.6858 - val_accuracy: 0.5408\n",
            "Epoch 69/300\n",
            "6934/6934 [==============================] - 1s 169us/step - loss: 0.6865 - accuracy: 0.5405 - val_loss: 0.6858 - val_accuracy: 0.5408\n",
            "Epoch 70/300\n",
            "6934/6934 [==============================] - 1s 164us/step - loss: 0.6868 - accuracy: 0.5401 - val_loss: 0.6857 - val_accuracy: 0.5408\n",
            "Epoch 71/300\n",
            "6934/6934 [==============================] - 1s 164us/step - loss: 0.6864 - accuracy: 0.5410 - val_loss: 0.6857 - val_accuracy: 0.5408\n",
            "Epoch 72/300\n",
            "6934/6934 [==============================] - 1s 165us/step - loss: 0.6866 - accuracy: 0.5405 - val_loss: 0.6856 - val_accuracy: 0.5408\n",
            "Epoch 73/300\n",
            "6934/6934 [==============================] - 1s 162us/step - loss: 0.6868 - accuracy: 0.5391 - val_loss: 0.6855 - val_accuracy: 0.5408\n",
            "Epoch 74/300\n",
            "6934/6934 [==============================] - 1s 164us/step - loss: 0.6862 - accuracy: 0.5394 - val_loss: 0.6855 - val_accuracy: 0.5408\n",
            "Epoch 75/300\n",
            "6934/6934 [==============================] - 1s 165us/step - loss: 0.6863 - accuracy: 0.5421 - val_loss: 0.6854 - val_accuracy: 0.5408\n",
            "Epoch 76/300\n",
            "6934/6934 [==============================] - 1s 165us/step - loss: 0.6863 - accuracy: 0.5401 - val_loss: 0.6854 - val_accuracy: 0.5408\n",
            "Epoch 77/300\n",
            "6934/6934 [==============================] - 1s 164us/step - loss: 0.6860 - accuracy: 0.5428 - val_loss: 0.6853 - val_accuracy: 0.5408\n",
            "Epoch 78/300\n",
            "6934/6934 [==============================] - 1s 166us/step - loss: 0.6862 - accuracy: 0.5376 - val_loss: 0.6853 - val_accuracy: 0.5416\n",
            "Epoch 79/300\n",
            "6934/6934 [==============================] - 1s 166us/step - loss: 0.6864 - accuracy: 0.5397 - val_loss: 0.6852 - val_accuracy: 0.5416\n",
            "Epoch 80/300\n",
            "6934/6934 [==============================] - 1s 164us/step - loss: 0.6864 - accuracy: 0.5408 - val_loss: 0.6851 - val_accuracy: 0.5416\n",
            "Epoch 81/300\n",
            "6934/6934 [==============================] - 1s 164us/step - loss: 0.6860 - accuracy: 0.5412 - val_loss: 0.6851 - val_accuracy: 0.5416\n",
            "Epoch 82/300\n",
            "6934/6934 [==============================] - 1s 165us/step - loss: 0.6860 - accuracy: 0.5420 - val_loss: 0.6850 - val_accuracy: 0.5416\n",
            "Epoch 83/300\n",
            "6934/6934 [==============================] - 1s 166us/step - loss: 0.6860 - accuracy: 0.5421 - val_loss: 0.6850 - val_accuracy: 0.5416\n",
            "Epoch 84/300\n",
            "6934/6934 [==============================] - 1s 163us/step - loss: 0.6856 - accuracy: 0.5408 - val_loss: 0.6849 - val_accuracy: 0.5416\n",
            "Epoch 85/300\n",
            "6934/6934 [==============================] - 1s 165us/step - loss: 0.6856 - accuracy: 0.5402 - val_loss: 0.6849 - val_accuracy: 0.5416\n",
            "Epoch 86/300\n",
            "6934/6934 [==============================] - 1s 167us/step - loss: 0.6855 - accuracy: 0.5417 - val_loss: 0.6848 - val_accuracy: 0.5416\n",
            "Epoch 87/300\n",
            "6934/6934 [==============================] - 1s 168us/step - loss: 0.6858 - accuracy: 0.5399 - val_loss: 0.6848 - val_accuracy: 0.5416\n",
            "Epoch 88/300\n",
            "6934/6934 [==============================] - 1s 164us/step - loss: 0.6860 - accuracy: 0.5427 - val_loss: 0.6847 - val_accuracy: 0.5416\n",
            "Epoch 89/300\n",
            "6934/6934 [==============================] - 1s 165us/step - loss: 0.6852 - accuracy: 0.5399 - val_loss: 0.6847 - val_accuracy: 0.5416\n",
            "Epoch 90/300\n",
            "6934/6934 [==============================] - 1s 164us/step - loss: 0.6850 - accuracy: 0.5410 - val_loss: 0.6846 - val_accuracy: 0.5416\n",
            "Epoch 91/300\n",
            "6934/6934 [==============================] - 1s 167us/step - loss: 0.6855 - accuracy: 0.5401 - val_loss: 0.6846 - val_accuracy: 0.5416\n",
            "Epoch 92/300\n",
            "6934/6934 [==============================] - 1s 181us/step - loss: 0.6853 - accuracy: 0.5412 - val_loss: 0.6845 - val_accuracy: 0.5416\n",
            "Epoch 93/300\n",
            "6934/6934 [==============================] - 1s 164us/step - loss: 0.6851 - accuracy: 0.5415 - val_loss: 0.6845 - val_accuracy: 0.5416\n",
            "Epoch 94/300\n",
            "6934/6934 [==============================] - 1s 167us/step - loss: 0.6853 - accuracy: 0.5407 - val_loss: 0.6844 - val_accuracy: 0.5416\n",
            "Epoch 95/300\n",
            "6934/6934 [==============================] - 1s 167us/step - loss: 0.6851 - accuracy: 0.5417 - val_loss: 0.6844 - val_accuracy: 0.5416\n",
            "Epoch 96/300\n",
            "6934/6934 [==============================] - 1s 165us/step - loss: 0.6852 - accuracy: 0.5391 - val_loss: 0.6843 - val_accuracy: 0.5416\n",
            "Epoch 97/300\n",
            "6934/6934 [==============================] - 1s 166us/step - loss: 0.6851 - accuracy: 0.5388 - val_loss: 0.6843 - val_accuracy: 0.5416\n",
            "Epoch 98/300\n",
            "6934/6934 [==============================] - 1s 166us/step - loss: 0.6847 - accuracy: 0.5420 - val_loss: 0.6842 - val_accuracy: 0.5416\n",
            "Epoch 99/300\n",
            "6934/6934 [==============================] - 1s 166us/step - loss: 0.6849 - accuracy: 0.5417 - val_loss: 0.6842 - val_accuracy: 0.5425\n",
            "Epoch 100/300\n",
            "6934/6934 [==============================] - 1s 166us/step - loss: 0.6849 - accuracy: 0.5414 - val_loss: 0.6841 - val_accuracy: 0.5416\n",
            "Epoch 101/300\n",
            "6934/6934 [==============================] - 1s 169us/step - loss: 0.6844 - accuracy: 0.5412 - val_loss: 0.6841 - val_accuracy: 0.5416\n",
            "Epoch 102/300\n",
            "6934/6934 [==============================] - 1s 169us/step - loss: 0.6845 - accuracy: 0.5417 - val_loss: 0.6840 - val_accuracy: 0.5416\n",
            "Epoch 103/300\n",
            "6934/6934 [==============================] - 1s 167us/step - loss: 0.6844 - accuracy: 0.5398 - val_loss: 0.6840 - val_accuracy: 0.5416\n",
            "Epoch 104/300\n",
            "6934/6934 [==============================] - 1s 170us/step - loss: 0.6848 - accuracy: 0.5427 - val_loss: 0.6839 - val_accuracy: 0.5416\n",
            "Epoch 105/300\n",
            "6934/6934 [==============================] - 1s 173us/step - loss: 0.6846 - accuracy: 0.5399 - val_loss: 0.6839 - val_accuracy: 0.5416\n",
            "Epoch 106/300\n",
            "6934/6934 [==============================] - 1s 166us/step - loss: 0.6848 - accuracy: 0.5384 - val_loss: 0.6838 - val_accuracy: 0.5416\n",
            "Epoch 107/300\n",
            "6934/6934 [==============================] - 1s 169us/step - loss: 0.6844 - accuracy: 0.5405 - val_loss: 0.6838 - val_accuracy: 0.5416\n",
            "Epoch 108/300\n",
            "6934/6934 [==============================] - 1s 173us/step - loss: 0.6848 - accuracy: 0.5411 - val_loss: 0.6837 - val_accuracy: 0.5416\n",
            "Epoch 109/300\n",
            "6934/6934 [==============================] - 1s 169us/step - loss: 0.6844 - accuracy: 0.5404 - val_loss: 0.6837 - val_accuracy: 0.5416\n",
            "Epoch 110/300\n",
            "6934/6934 [==============================] - 1s 167us/step - loss: 0.6846 - accuracy: 0.5412 - val_loss: 0.6836 - val_accuracy: 0.5416\n",
            "Epoch 111/300\n",
            "6934/6934 [==============================] - 1s 168us/step - loss: 0.6844 - accuracy: 0.5410 - val_loss: 0.6836 - val_accuracy: 0.5416\n",
            "Epoch 112/300\n",
            "6934/6934 [==============================] - 1s 166us/step - loss: 0.6838 - accuracy: 0.5401 - val_loss: 0.6835 - val_accuracy: 0.5416\n",
            "Epoch 113/300\n",
            "6934/6934 [==============================] - 1s 166us/step - loss: 0.6840 - accuracy: 0.5415 - val_loss: 0.6835 - val_accuracy: 0.5416\n",
            "Epoch 114/300\n",
            "6934/6934 [==============================] - 1s 166us/step - loss: 0.6846 - accuracy: 0.5392 - val_loss: 0.6834 - val_accuracy: 0.5416\n",
            "Epoch 115/300\n",
            "6934/6934 [==============================] - 1s 166us/step - loss: 0.6842 - accuracy: 0.5415 - val_loss: 0.6834 - val_accuracy: 0.5416\n",
            "Epoch 116/300\n",
            "6934/6934 [==============================] - 1s 165us/step - loss: 0.6840 - accuracy: 0.5425 - val_loss: 0.6834 - val_accuracy: 0.5416\n",
            "Epoch 117/300\n",
            "6934/6934 [==============================] - 1s 165us/step - loss: 0.6844 - accuracy: 0.5418 - val_loss: 0.6833 - val_accuracy: 0.5416\n",
            "Epoch 118/300\n",
            "6934/6934 [==============================] - 1s 165us/step - loss: 0.6838 - accuracy: 0.5402 - val_loss: 0.6833 - val_accuracy: 0.5416\n",
            "Epoch 119/300\n",
            "6934/6934 [==============================] - 1s 166us/step - loss: 0.6841 - accuracy: 0.5428 - val_loss: 0.6832 - val_accuracy: 0.5416\n",
            "Epoch 120/300\n",
            "6934/6934 [==============================] - 1s 165us/step - loss: 0.6836 - accuracy: 0.5427 - val_loss: 0.6832 - val_accuracy: 0.5416\n",
            "Epoch 121/300\n",
            "6934/6934 [==============================] - 1s 164us/step - loss: 0.6838 - accuracy: 0.5415 - val_loss: 0.6831 - val_accuracy: 0.5416\n",
            "Epoch 122/300\n",
            "6934/6934 [==============================] - 1s 165us/step - loss: 0.6841 - accuracy: 0.5391 - val_loss: 0.6831 - val_accuracy: 0.5416\n",
            "Epoch 123/300\n",
            "6934/6934 [==============================] - 1s 165us/step - loss: 0.6839 - accuracy: 0.5425 - val_loss: 0.6831 - val_accuracy: 0.5416\n",
            "Epoch 124/300\n",
            "6934/6934 [==============================] - 1s 166us/step - loss: 0.6839 - accuracy: 0.5408 - val_loss: 0.6830 - val_accuracy: 0.5416\n",
            "Epoch 125/300\n",
            "6934/6934 [==============================] - 1s 165us/step - loss: 0.6838 - accuracy: 0.5407 - val_loss: 0.6830 - val_accuracy: 0.5416\n",
            "Epoch 126/300\n",
            "6934/6934 [==============================] - 1s 165us/step - loss: 0.6834 - accuracy: 0.5412 - val_loss: 0.6829 - val_accuracy: 0.5416\n",
            "Epoch 127/300\n",
            "6934/6934 [==============================] - 1s 165us/step - loss: 0.6833 - accuracy: 0.5398 - val_loss: 0.6829 - val_accuracy: 0.5416\n",
            "Epoch 128/300\n",
            "6934/6934 [==============================] - 1s 166us/step - loss: 0.6834 - accuracy: 0.5411 - val_loss: 0.6828 - val_accuracy: 0.5416\n",
            "Epoch 129/300\n",
            "6934/6934 [==============================] - 1s 165us/step - loss: 0.6833 - accuracy: 0.5388 - val_loss: 0.6828 - val_accuracy: 0.5416\n",
            "Epoch 130/300\n",
            "6934/6934 [==============================] - 1s 164us/step - loss: 0.6837 - accuracy: 0.5402 - val_loss: 0.6828 - val_accuracy: 0.5416\n",
            "Epoch 131/300\n",
            "6934/6934 [==============================] - 1s 169us/step - loss: 0.6836 - accuracy: 0.5399 - val_loss: 0.6827 - val_accuracy: 0.5416\n",
            "Epoch 132/300\n",
            "6934/6934 [==============================] - 1s 167us/step - loss: 0.6833 - accuracy: 0.5398 - val_loss: 0.6827 - val_accuracy: 0.5416\n",
            "Epoch 133/300\n",
            "6934/6934 [==============================] - 1s 165us/step - loss: 0.6838 - accuracy: 0.5408 - val_loss: 0.6826 - val_accuracy: 0.5416\n",
            "Epoch 134/300\n",
            "3000/6934 [===========>..................] - ETA: 0s - loss: 0.6831 - accuracy: 0.5460"
          ],
          "name": "stdout"
        }
      ]
    },
    {
      "cell_type": "code",
      "metadata": {
        "id": "q1fXtHVYSS66"
      },
      "source": [
        "# import pickle\n",
        "# with open(\"/content/drive/My Drive/Munna_Research/Experiment/model_1.pkl\", 'wb') as out_file:\n",
        "#   pickle.dump(model, out_file)"
      ],
      "execution_count": null,
      "outputs": []
    },
    {
      "cell_type": "code",
      "metadata": {
        "id": "oaA0BtXgUpn2"
      },
      "source": [
        "# from sklearn.externals import joblib\n",
        "\n",
        "# # save the model to disk\n",
        "# filename = \"/content/drive/My Drive/Munna_Research/Experiment/model_1.joblib\"\n",
        "# joblib.dump(model, filename)"
      ],
      "execution_count": null,
      "outputs": []
    },
    {
      "cell_type": "code",
      "metadata": {
        "id": "GGsyU_KHuqP5"
      },
      "source": [
        "loss, test_accuracy = model.evaluate(np.array(x_test_vectorized), np.array(y_test), verbose=0)"
      ],
      "execution_count": null,
      "outputs": []
    },
    {
      "cell_type": "code",
      "metadata": {
        "id": "rhSUNdFaIa_i",
        "colab": {
          "base_uri": "https://localhost:8080/",
          "height": 142
        },
        "outputId": "c74167eb-5782-4aff-81d5-06a3343d2fbe"
      },
      "source": [
        "train_accuracy = history.history['accuracy'][-1]\n",
        "val_accuracy = history.history['val_accuracy'][-1]\n",
        "\n",
        "accuracy_table = pd.DataFrame([round(train_accuracy, 3), round(val_accuracy, 3), round(test_accuracy, 3)], \n",
        "             index=['Training', 'Validation', 'Test'], \n",
        "             columns=['Accuracy'])\n",
        "accuracy_table"
      ],
      "execution_count": null,
      "outputs": [
        {
          "output_type": "execute_result",
          "data": {
            "text/html": [
              "<div>\n",
              "<style scoped>\n",
              "    .dataframe tbody tr th:only-of-type {\n",
              "        vertical-align: middle;\n",
              "    }\n",
              "\n",
              "    .dataframe tbody tr th {\n",
              "        vertical-align: top;\n",
              "    }\n",
              "\n",
              "    .dataframe thead th {\n",
              "        text-align: right;\n",
              "    }\n",
              "</style>\n",
              "<table border=\"1\" class=\"dataframe\">\n",
              "  <thead>\n",
              "    <tr style=\"text-align: right;\">\n",
              "      <th></th>\n",
              "      <th>Accuracy</th>\n",
              "    </tr>\n",
              "  </thead>\n",
              "  <tbody>\n",
              "    <tr>\n",
              "      <th>Training</th>\n",
              "      <td>0.869</td>\n",
              "    </tr>\n",
              "    <tr>\n",
              "      <th>Validation</th>\n",
              "      <td>0.843</td>\n",
              "    </tr>\n",
              "    <tr>\n",
              "      <th>Test</th>\n",
              "      <td>0.858</td>\n",
              "    </tr>\n",
              "  </tbody>\n",
              "</table>\n",
              "</div>"
            ],
            "text/plain": [
              "            Accuracy\n",
              "Training       0.869\n",
              "Validation     0.843\n",
              "Test           0.858"
            ]
          },
          "metadata": {
            "tags": []
          },
          "execution_count": 49
        }
      ]
    },
    {
      "cell_type": "code",
      "metadata": {
        "id": "L6pw1-f7aBZZ",
        "colab": {
          "base_uri": "https://localhost:8080/",
          "height": 34
        },
        "outputId": "fe327da4-bc9b-4630-db54-d82d07f26e9a"
      },
      "source": [
        "from sklearn.metrics import accuracy_score\n",
        "y_pred = model.predict(np.array(x_test_vectorized))\n",
        "y_pred = [int(round(i)) for i in y_pred.reshape(-1)]\n",
        "ac = accuracy_score(y_test.tolist(), y_pred)\n",
        "print(round(ac, 4))"
      ],
      "execution_count": null,
      "outputs": [
        {
          "output_type": "stream",
          "text": [
            "0.8583\n"
          ],
          "name": "stdout"
        }
      ]
    },
    {
      "cell_type": "code",
      "metadata": {
        "id": "gPGxr-OoIbQ_",
        "colab": {
          "base_uri": "https://localhost:8080/",
          "height": 441
        },
        "outputId": "e30c4a93-fda9-427a-b5d5-4ee4ff3964e9"
      },
      "source": [
        "import matplotlib.pyplot as plt\n",
        "fig, ax = plt.subplots(figsize=(12,6))\n",
        "plt.plot(history.history['accuracy'][:50],'darkorange')\n",
        "plt.plot(history.history['val_accuracy'][:50], 'seagreen')\n",
        "plt.title(\"Training & Validation accuracy across epochs\")\n",
        "plt.ylabel('Accuracy')\n",
        "plt.xlabel('Epochs')\n",
        "plt.legend(['Train', 'Validation'], loc='upper left')\n",
        "plt.tight_layout()\n",
        "\n",
        "# plt.savefig('/content/drive/My Drive/Munna_Research/Experiment/acuracy_vs_epochs.jpg', dpi=300)\n",
        "plt.show()"
      ],
      "execution_count": null,
      "outputs": [
        {
          "output_type": "display_data",
          "data": {
            "image/png": "[encoded data removed]",
            "text/plain": [
              "<Figure size 864x432 with 1 Axes>"
            ]
          },
          "metadata": {
            "tags": [],
            "needs_background": "light"
          }
        }
      ]
    },
    {
      "cell_type": "code",
      "metadata": {
        "id": "pzJMlvXrgdJh",
        "colab": {
          "base_uri": "https://localhost:8080/",
          "height": 137
        },
        "outputId": "0e72ced4-e455-4440-c4cd-75de238a84d9"
      },
      "source": [
        "from sklearn.metrics import confusion_matrix\n",
        "cm = confusion_matrix(y_test.tolist(), y_pred)\n",
        "print(cm)\n",
        "\n",
        "p = pd.DataFrame(cm, \n",
        "                 index=[['Actual','Actual'],['True', 'False']], \n",
        "                 columns=[['Predicted','Predicted'],['True', 'False']])\n",
        "\n",
        "p.style.set_properties(**{'background-color': 'lightgreen', \n",
        "                          'color': 'black'})"
      ],
      "execution_count": null,
      "outputs": [
        {
          "output_type": "stream",
          "text": [
            "[[ 57  20]\n",
            " [ 15 155]]\n"
          ],
          "name": "stdout"
        },
        {
          "output_type": "execute_result",
          "data": {
            "text/html": [
              "<style  type=\"text/css\" >\n",
              "    #T_5ec8932a_dbf8_11ea_9eff_0242ac1c0002row0_col0 {\n",
              "            background-color:  lightgreen;\n",
              "            color:  black;\n",
              "        }    #T_5ec8932a_dbf8_11ea_9eff_0242ac1c0002row0_col1 {\n",
              "            background-color:  lightgreen;\n",
              "            color:  black;\n",
              "        }    #T_5ec8932a_dbf8_11ea_9eff_0242ac1c0002row1_col0 {\n",
              "            background-color:  lightgreen;\n",
              "            color:  black;\n",
              "        }    #T_5ec8932a_dbf8_11ea_9eff_0242ac1c0002row1_col1 {\n",
              "            background-color:  lightgreen;\n",
              "            color:  black;\n",
              "        }</style><table id=\"T_5ec8932a_dbf8_11ea_9eff_0242ac1c0002\" ><thead>    <tr>        <th class=\"blank\" ></th>        <th class=\"blank level0\" ></th>        <th class=\"col_heading level0 col0\" colspan=2>Predicted</th>    </tr>    <tr>        <th class=\"blank\" ></th>        <th class=\"blank level1\" ></th>        <th class=\"col_heading level1 col0\" >True</th>        <th class=\"col_heading level1 col1\" >False</th>    </tr></thead><tbody>\n",
              "                <tr>\n",
              "                        <th id=\"T_5ec8932a_dbf8_11ea_9eff_0242ac1c0002level0_row0\" class=\"row_heading level0 row0\" rowspan=2>Actual</th>\n",
              "                        <th id=\"T_5ec8932a_dbf8_11ea_9eff_0242ac1c0002level1_row0\" class=\"row_heading level1 row0\" >True</th>\n",
              "                        <td id=\"T_5ec8932a_dbf8_11ea_9eff_0242ac1c0002row0_col0\" class=\"data row0 col0\" >57</td>\n",
              "                        <td id=\"T_5ec8932a_dbf8_11ea_9eff_0242ac1c0002row0_col1\" class=\"data row0 col1\" >20</td>\n",
              "            </tr>\n",
              "            <tr>\n",
              "                                <th id=\"T_5ec8932a_dbf8_11ea_9eff_0242ac1c0002level1_row1\" class=\"row_heading level1 row1\" >False</th>\n",
              "                        <td id=\"T_5ec8932a_dbf8_11ea_9eff_0242ac1c0002row1_col0\" class=\"data row1 col0\" >15</td>\n",
              "                        <td id=\"T_5ec8932a_dbf8_11ea_9eff_0242ac1c0002row1_col1\" class=\"data row1 col1\" >155</td>\n",
              "            </tr>\n",
              "    </tbody></table>"
            ],
            "text/plain": [
              "<pandas.io.formats.style.Styler at 0x7fb65622c2b0>"
            ]
          },
          "metadata": {
            "tags": []
          },
          "execution_count": 96
        }
      ]
    },
    {
      "cell_type": "code",
      "metadata": {
        "id": "aJ6_hykgglAz"
      },
      "source": [
        ""
      ],
      "execution_count": null,
      "outputs": []
    }
  ]
}